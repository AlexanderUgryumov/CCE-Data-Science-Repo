{
 "cells": [
  {
   "cell_type": "markdown",
   "metadata": {},
   "source": [
    "### This script is "
   ]
  },
  {
   "cell_type": "code",
   "execution_count": 51,
   "metadata": {},
   "outputs": [],
   "source": [
    "import openpyxl\n",
    "import glob\n",
    "from openpyxl import load_workbook\n",
    "from openpyxl import Workbook\n",
    "\n",
    "file_list = [f for f in glob.glob('*.dev')]\n",
    "\n",
    "Header = ['X coordinate', 'Y coordinate', 'True Vertical Depth', 'Measured Depth', 'Inclination', 'Azimuth']\n",
    "\n",
    "\n",
    "\n",
    "for file in file_list:\n",
    "\n",
    "    wb = Workbook()\n",
    "    file_name = file.split(sep = '.')[0] + '.xlsx'\n",
    "    ws1 = wb.active\n",
    "    \n",
    "    with open(file) as f:\n",
    "        i = 0\n",
    "        for line in f:\n",
    "            i = i+1\n",
    "            if i < 18:\n",
    "                continue\n",
    "            else:\n",
    "                out = line.split(sep=' ')\n",
    "                out_fin = [out[2],out[3], out[5], out[1], out[8], out[9]]\n",
    "                out_fin1 = list(map(float, out_fin))\n",
    "                out_fin1[0] = out_fin1[0]/1000\n",
    "                out_fin1[1] = out_fin1[1]/1000\n",
    "                for j in range(1,7):\n",
    "                    ws1.cell(column = j, row = 1, value = Header[j-1])\n",
    "                \n",
    "                for col in range(1,7):\n",
    "                    ws1.cell(column = col, row = i-16, value = out_fin1[col-1])\n",
    "    \n",
    "    wb.save(filename = file_name)\n",
    "                 \n",
    "        \n",
    "        "
   ]
  }
 ],
 "metadata": {
  "kernelspec": {
   "display_name": "Python 3",
   "language": "python",
   "name": "python3"
  },
  "language_info": {
   "codemirror_mode": {
    "name": "ipython",
    "version": 3
   },
   "file_extension": ".py",
   "mimetype": "text/x-python",
   "name": "python",
   "nbconvert_exporter": "python",
   "pygments_lexer": "ipython3",
   "version": "3.8.5"
  }
 },
 "nbformat": 4,
 "nbformat_minor": 4
}
