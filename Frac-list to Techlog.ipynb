{
 "cells": [
  {
   "cell_type": "markdown",
   "metadata": {},
   "source": [
    "## Frac-list to Techlog format processing"
   ]
  },
  {
   "cell_type": "markdown",
   "metadata": {},
   "source": [
    "#### This script is intended to take a raw frac-list and bring it to tab-delimited format to load into Techlog as a zonation with the data on hydraulic fracture stage depth an ISIP pressures for fluid replacement, minifrac and mian fracturing job"
   ]
  },
  {
   "cell_type": "code",
   "execution_count": 2,
   "metadata": {},
   "outputs": [],
   "source": [
    "def frac_list_parce(file_in, file_out, N):\n",
    "    \"\"\"\n",
    "    This function is intended to parse capillary pressure data form the Neftecom standard file into csv file loadable into Techlog\n",
    "    Arguments:\n",
    "        file_in <string> fine name which needs to be parsed. Needs to be in 'xlsx' format\n",
    "        file_out <string> name of the output file\n",
    "    \"\"\"\n",
    "    from openpyxl import load_workbook # import lib to process excel files\n",
    "    wb2 = load_workbook(file_in)\n",
    "    ws1 = wb2.active\n",
    "    \n",
    "    # Create an output file and write into it curves headers and units\n",
    "    header = 'Well; Stage; Status; Stage_top; Stage_bot; Perf; Perf_Date; Perf_top; Perf_bot; ISIP_repl_h; ISIP_repl_b; ISIP_mini_h; ISIP_mini_b; ISIP_main_h; ISIP_main_b\\n'\\\n",
    "    '; ; ; m; m; ; TEXT; m; m; atm; atm; atm; atm; atm; atm\\n'\n",
    "    \n",
    "\n",
    "    with open(file_out, 'w') as file1:\n",
    "        for line in header:\n",
    "            file1.write(line)\n",
    "    \n",
    "    \n",
    "\n",
    "    Well = []\n",
    "    Stage = []\n",
    "    Status = []\n",
    "    Stage_top = []\n",
    "    Stage_bot = []\n",
    "    Perf_Date = []\n",
    "    ISIP_repl_h = []\n",
    "    ISIP_repl_b = []\n",
    "    ISIP_mini_h = []\n",
    "    ISIP_mini_b = []\n",
    "    ISIP_main_h = []\n",
    "    ISIP_main_b = []\n",
    "    \n",
    "    file1 = open(file_out, 'a+')\n",
    "\n",
    "    # Process excel file and extract data from each worksheet: \n",
    "    i = -1\n",
    "    for row in ws1.iter_rows(min_row = 7, min_col = 1, max_row = N, max_col = 132, values_only = True):\n",
    "        i += 1\n",
    "        Well.append(row[1])\n",
    "        Stage.append(row[5])\n",
    "        Status.append(row[8])\n",
    "        Perf_Date.append(row[7])\n",
    "        ISIP_repl_h.append(row[103])\n",
    "        ISIP_repl_b.append(row[104])\n",
    "        ISIP_mini_h.append(row[105])\n",
    "        ISIP_mini_b.append(row[106])\n",
    "        ISIP_main_h.append(row[107])\n",
    "        ISIP_main_b.append(row[108])\n",
    "        Perf_top = [i for i in row[9:13] if i != '-']\n",
    "        \n",
    "        Perf_len = [i for i in row[13:17] if i != '-']\n",
    "        Perf_bot = [a + b for a,b in zip(Perf_top, Perf_len)]\n",
    "         \n",
    "\n",
    "        for j in range(len(Perf_bot)):\n",
    "            row = map(str,[Well[i], Stage[i], Status[i],  min(Perf_top), max(Perf_bot), Perf_top.index(Perf_top[j]) + 1, Perf_Date[i],  Perf_top[j], Perf_bot[j], \n",
    "                        ISIP_repl_h[i], ISIP_repl_b[i], ISIP_mini_h[i], ISIP_mini_b[i], ISIP_main_h[i], ISIP_main_b[i]])\n",
    "            fin = ';'.join(row)\n",
    "            file1.writelines(fin)\n",
    "            file1.write('\\n')\n",
    "                \n",
    "    file1.close()\n",
    "    \n",
    "\n",
    "file_in = 'Фрак лист V.4.1.xlsx'\n",
    "file_out = 'Frac.csv'\n",
    "\n",
    "frac_list_parce(file_in, file_out, 511)\n"
   ]
  }
 ],
 "metadata": {
  "kernelspec": {
   "display_name": "Python 3",
   "language": "python",
   "name": "python3"
  },
  "language_info": {
   "codemirror_mode": {
    "name": "ipython",
    "version": 3
   },
   "file_extension": ".py",
   "mimetype": "text/x-python",
   "name": "python",
   "nbconvert_exporter": "python",
   "pygments_lexer": "ipython3",
   "version": "3.8.5"
  }
 },
 "nbformat": 4,
 "nbformat_minor": 4
}
