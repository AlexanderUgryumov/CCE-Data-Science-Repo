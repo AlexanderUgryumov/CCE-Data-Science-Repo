{
 "cells": [
  {
   "cell_type": "code",
   "execution_count": 18,
   "metadata": {},
   "outputs": [
    {
     "name": "stdout",
     "output_type": "stream",
     "text": [
      "['2857.00.xlsx', '2858.00.xlsx', '2859.00.xlsx', '2860.00.xlsx', '2862.00.xlsx', '2863.00.xlsx', '2864.00.xlsx', '2865.00.xlsx', '2866.00.xlsx', '2867.00.xlsx', '2868.00.xlsx', '2869.00.xlsx', '2870.00.xlsx', '2871.00.xlsx', '2872.00.xlsx', '2873.00.xlsx', '2874.00.xlsx', '2875.00.xlsx', '2876.00.xlsx', '2877.00.xlsx', '2878.00.xlsx', '2879.00.xlsx', '2880.00.xlsx', '2881.00.xlsx', '2882.00.xlsx', '2883.00.xlsx', '2884.00.xlsx', '2885.00.xlsx', '2886.00.xlsx', '2887.00.xlsx', '2888.00.xlsx', '2889.00.xlsx', '2890.00.xlsx', '2891.00.xlsx', '2892.00.xlsx', '2893.00.xlsx', '2894.00.xlsx', '2895.00.xlsx', '2896.00.xlsx', '2897.00.xlsx', '2898.00.xlsx', '2899.00.xlsx', '2900.00.xlsx', '2901.00.xlsx', '2903.00.xlsx', '2904.00.xlsx', '2905.00.xlsx', '2906.00.xlsx', '2907.00.xlsx', '2908.00.xlsx', '2909.00.xlsx', '2910.00.xlsx', '2911.00.xlsx', '2912.00.xlsx', '2913.00.xlsx', '2914.00.xlsx', '2915.00.xlsx', '2916.00.xlsx']\n"
     ]
    }
   ],
   "source": [
    "# This script runs over individual scratcher report and mergers them into a signle .csv file to be loaded to Techlog\n",
    "\n",
    "import openpyxl\n",
    "import glob\n",
    "from openpyxl import load_workbook\n",
    "\n",
    "file_list = [f for f in glob.glob('*.xlsx')]\n",
    "\n",
    "Header = 'MD, TCX\\n m, MPa\\n'\n",
    "\n",
    "with open('203_p_scratcher.csv', 'w') as f:\n",
    "    f.write(Header)\n",
    "    f.write('\\n')\n",
    "\n",
    "\n",
    "f = open('203_p_scratcher.csv', 'a+')  \n",
    "for i in file_list:\n",
    "    wb2 = load_workbook(i)\n",
    "    sheet = wb2['FIL']\n",
    "    for row in sheet.iter_rows(min_row = 2, min_col = 1, max_row = 1000, max_col = 3, values_only = True):\n",
    "        if row[0] != 0:\n",
    "            f.write(str(row[0]) + ',' + str(row[2]) + '\\n')\n",
    "        else:\n",
    "            break\n",
    "f.close()  "
   ]
  },
  {
   "cell_type": "code",
   "execution_count": null,
   "metadata": {},
   "outputs": [],
   "source": []
  },
  {
   "cell_type": "code",
   "execution_count": null,
   "metadata": {},
   "outputs": [],
   "source": []
  },
  {
   "cell_type": "code",
   "execution_count": null,
   "metadata": {},
   "outputs": [],
   "source": []
  },
  {
   "cell_type": "code",
   "execution_count": null,
   "metadata": {},
   "outputs": [],
   "source": []
  },
  {
   "cell_type": "code",
   "execution_count": null,
   "metadata": {},
   "outputs": [],
   "source": []
  },
  {
   "cell_type": "code",
   "execution_count": null,
   "metadata": {},
   "outputs": [],
   "source": []
  },
  {
   "cell_type": "code",
   "execution_count": null,
   "metadata": {},
   "outputs": [],
   "source": []
  },
  {
   "cell_type": "code",
   "execution_count": null,
   "metadata": {},
   "outputs": [],
   "source": []
  },
  {
   "cell_type": "code",
   "execution_count": null,
   "metadata": {},
   "outputs": [],
   "source": []
  },
  {
   "cell_type": "code",
   "execution_count": null,
   "metadata": {},
   "outputs": [],
   "source": []
  },
  {
   "cell_type": "code",
   "execution_count": null,
   "metadata": {},
   "outputs": [],
   "source": []
  }
 ],
 "metadata": {
  "kernelspec": {
   "display_name": "Python 3",
   "language": "python",
   "name": "python3"
  },
  "language_info": {
   "codemirror_mode": {
    "name": "ipython",
    "version": 3
   },
   "file_extension": ".py",
   "mimetype": "text/x-python",
   "name": "python",
   "nbconvert_exporter": "python",
   "pygments_lexer": "ipython3",
   "version": "3.8.5"
  }
 },
 "nbformat": 4,
 "nbformat_minor": 4
}
