{
 "cells": [
  {
   "cell_type": "code",
   "execution_count": 45,
   "metadata": {},
   "outputs": [],
   "source": [
    "def pcap_parce(file_in, file_out):\n",
    "    \"\"\"\n",
    "    This function is intended to parse capillary pressure data form the Neftecom standard file into csv file loadable into Techlog\n",
    "    Arguments:\n",
    "        file_in <string> fine name which needs to be parsed. Needs to be in 'xlsx' format\n",
    "        file_out <string> name of the output file\n",
    "    \"\"\"\n",
    "    from openpyxl import load_workbook # import lib to process excel files\n",
    "    wb2 = load_workbook(file_in)\n",
    "\n",
    "    \n",
    "    # Create an output file and write into it curves headers and units\n",
    "    header = 'SampleID; MD; LITH; CPOR; CKKL; CSWA; PClab\\n TEXT; m; TEXT; %; mD; %; atm\\n'\n",
    "\n",
    "    with open(file_out, 'w') as file1:\n",
    "        for line in header:\n",
    "            file1.write(line)\n",
    "        \n",
    "    SampleID = wb2.sheetnames\n",
    "    MD = []\n",
    "    LITH = []\n",
    "    Poro = []\n",
    "    Perm = []\n",
    "    CSW = []\n",
    "    PC = []\n",
    "\n",
    "    # Process excel file and extract data from each worksheet\n",
    "    for sheet in wb2:\n",
    "        top_depth = sheet['O24'].value.split('-')[0]\n",
    "        top_depth = float(top_depth.replace(',','.'))\n",
    "        position = sheet['P24'].value\n",
    "        MD.append(top_depth + position)\n",
    "        LITH.append(sheet['Q24'].value)\n",
    "        Poro.append(sheet['S24'].value)\n",
    "        Perm.append(sheet['R24'].value)\n",
    "    \n",
    "        for row in sheet.iter_cols(min_row = 24, min_col = 20, max_row = 25, max_col = 29, values_only = True):\n",
    "            PC.append(0.9678 * row[0]) # Coefficient at pressure is to convert form kgf|cm2 to atm\n",
    "            CSW.append(row[1])\n",
    "    \n",
    "\n",
    "    file1 = open(file_out, 'a+')\n",
    "    \n",
    "    # Write data into output file suitable to load into Techlog as array data\n",
    "    for i in range(len(SampleID)):\n",
    "        for j in range(i*10,(i+1)*10):\n",
    "            row = map(str,[SampleID[i], MD[i], LITH[i], Poro[i], Perm[i], CSW[j], PC[j]])\n",
    "            fin = ';'.join(row)\n",
    "            file1.writelines(fin)\n",
    "            file1.write('\\n')          \n",
    "    file1.close()\n",
    "\n",
    "file_in = 'ККД_603р_10.xlsx'\n",
    "file_out = '603R_PCAP.csv'\n",
    "\n",
    "pcap_parce(file_in, file_out)\n"
   ]
  }
 ],
 "metadata": {
  "kernelspec": {
   "display_name": "Python 3",
   "language": "python",
   "name": "python3"
  },
  "language_info": {
   "codemirror_mode": {
    "name": "ipython",
    "version": 3
   },
   "file_extension": ".py",
   "mimetype": "text/x-python",
   "name": "python",
   "nbconvert_exporter": "python",
   "pygments_lexer": "ipython3",
   "version": "3.8.5"
  }
 },
 "nbformat": 4,
 "nbformat_minor": 4
}
